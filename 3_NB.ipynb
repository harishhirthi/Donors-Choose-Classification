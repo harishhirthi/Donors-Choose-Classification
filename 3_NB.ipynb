{
 "cells": [
  {
   "cell_type": "markdown",
   "metadata": {
    "colab_type": "text",
    "id": "Dnubs-Nnb3cw"
   },
   "source": [
    "# Assignment 6: Apply NB"
   ]
  },
  {
   "cell_type": "markdown",
   "metadata": {
    "colab_type": "text",
    "id": "12krXa2pb3c1"
   },
   "source": [
    "<ol>\n",
    "    <li><strong>Apply Multinomial NB on these feature sets</strong>\n",
    "        <ul>\n",
    "            <li><font color='red'>Set 1</font>: categorical, numerical features + preprocessed_eassay (BOW)</li>\n",
    "            <li><font color='red'>Set 2</font>: categorical, numerical features + preprocessed_eassay (TFIDF)</li>\n",
    "        </ul>\n",
    "    </li>\n",
    "    <li><strong>The hyper paramter tuning(find best alpha:smoothing parameter)</strong>\n",
    "        <ul>\n",
    "    <li>Find the best hyper parameter which will give the maximum <a href='https://www.appliedaicourse.com/course/applied-ai-course-online/lessons/receiver-operating-characteristic-curve-roc-curve-and-auc-1/'>AUC</a> value</li>\n",
    "    <li>find the best hyper paramter using k-fold cross validation(use GridsearchCV or RandomsearchCV)/simple cross validation data (write for loop to iterate over hyper parameter values)</li>\n",
    "    <li></li>\n",
    "        </ul>\n",
    "    </li>\n",
    "    <li>\n",
    "    <strong>Representation of results</strong>\n",
    "        <ul>\n",
    "    <li>You need to plot the performance of model both on train data and cross validation data for each hyper parameter, like shown in the figure\n",
    "    <img src='https://i.imgur.com/hUv6aEy.jpg' width=300px></li>\n",
    "    <li>Once after you found the best hyper parameter, you need to train your model with it, and find the AUC on test data and plot the ROC curve on both train and test.\n",
    "    <img src='https://i.imgur.com/wMQDTFe.jpg' width=300px></li>\n",
    "    <li>Along with plotting ROC curve, you need to print the <a href='https://www.appliedaicourse.com/course/applied-ai-course-online/lessons/confusion-matrix-tpr-fpr-fnr-tnr-1/'>confusion matrix</a> with predicted and original labels of test data points\n",
    "    <img src='https://i.imgur.com/IdN5Ctv.png' width=300px></li>\n",
    "        </ul>\n",
    "    </li>\n",
    "    <li>\n",
    "fine the top 20 features from either from feature <font color='red'>Set 1</font> or feature <font color='red'>Set 2</font> using absolute values of `feature_log_prob_ ` parameter of `MultinomialNB` \n",
    "(https://scikit-learn.org/stable/modules/generated/sklearn.naive_bayes.MultinomialNB.html) and print their corresponding feature names\n",
    "    </li>\n",
    "    <li>You need to summarize the results at the end of the notebook, summarize it in the table format\n",
    "        <img src='http://i.imgur.com/YVpIGGE.jpg' width=400px>\n",
    "    </li>\n",
    "</ol>"
   ]
  },
  {
   "cell_type": "markdown",
   "metadata": {
    "colab_type": "text",
    "id": "inzYCIaib3c3"
   },
   "source": [
    "<h1>2. Naive Bayes </h1>"
   ]
  },
  {
   "cell_type": "markdown",
   "metadata": {
    "colab_type": "text",
    "id": "FYqCIxzFb3c5"
   },
   "source": [
    "## 1.1 Loading Data"
   ]
  },
  {
   "cell_type": "code",
   "execution_count": 1,
   "metadata": {
    "colab": {},
    "colab_type": "code",
    "id": "dA1jknyqb3c_"
   },
   "outputs": [],
   "source": [
    "import pandas\n",
    "data = pandas.read_csv('preprocessed_data.csv')"
   ]
  },
  {
   "cell_type": "code",
   "execution_count": 2,
   "metadata": {},
   "outputs": [],
   "source": [
    "%matplotlib inline\n",
    "import warnings\n",
    "warnings.filterwarnings(\"ignore\")\n",
    "\n",
    "import pandas as pd\n",
    "import numpy as np\n",
    "import nltk\n",
    "import matplotlib.pyplot as plt\n",
    "import seaborn as sns\n",
    "from sklearn.feature_extraction.text import TfidfVectorizer\n",
    "from sklearn.feature_extraction.text import CountVectorizer\n",
    "from sklearn.metrics import confusion_matrix\n",
    "from sklearn import metrics\n",
    "from sklearn.metrics import roc_curve, auc\n",
    "from sklearn.model_selection import train_test_split\n",
    "\n",
    "import re\n",
    "# Tutorial about Python regular expressions: https://pymotw.com/2/re/\n",
    "\n",
    "import pickle\n",
    "from tqdm import tqdm\n",
    "import os\n"
   ]
  },
  {
   "cell_type": "markdown",
   "metadata": {
    "colab_type": "text",
    "id": "WtVV13Fyb3dH"
   },
   "source": [
    "<h2>1.2 Splitting data into Train and cross validation(or test): Stratified Sampling</h2>"
   ]
  },
  {
   "cell_type": "code",
   "execution_count": 3,
   "metadata": {
    "colab": {},
    "colab_type": "code",
    "id": "i-PyprDNb3dI"
   },
   "outputs": [],
   "source": [
    "# please write all the code with proper documentation, and proper titles for each subsection\n",
    "# go through documentations and blogs before you start coding\n",
    "# first figure out what to do, and then think about how to do.\n",
    "# reading and understanding error messages will be very much helpfull in debugging your code\n",
    "# when you plot any graph make sure you use \n",
    "    # a. Title, that describes your plot, this will be very helpful to the reader\n",
    "    # b. Legends if needed\n",
    "    # c. X-axis label\n",
    "    # d. Y-axis label"
   ]
  },
  {
   "cell_type": "code",
   "execution_count": 4,
   "metadata": {},
   "outputs": [
    {
     "name": "stdout",
     "output_type": "stream",
     "text": [
      "(109248, 9)\n",
      "['school_state' 'teacher_prefix' 'project_grade_category'\n",
      " 'teacher_number_of_previously_posted_projects' 'project_is_approved'\n",
      " 'clean_categories' 'clean_subcategories' 'essay' 'price']\n",
      "1    92706\n",
      "0    16542\n",
      "Name: project_is_approved, dtype: int64\n",
      "(49041, 8) (49041,)\n",
      "(24155, 8) (24155,)\n",
      "(36052, 8) (36052,)\n"
     ]
    }
   ],
   "source": [
    "print(data.shape)\n",
    "print(data.columns.values)\n",
    "print(data.project_is_approved.value_counts())\n",
    "#print(data.head())\n",
    "\n",
    "Y = data['project_is_approved'].values\n",
    "X = data.drop('project_is_approved', axis = 1)\n",
    "X_train, X_test, Y_train, Y_test = train_test_split(X, Y, test_size = 0.33, stratify = Y)\n",
    "X_train, X_cv, Y_train, Y_cv = train_test_split(X_train, Y_train, test_size = 0.33, stratify = Y_train)\n",
    "print(X_train.shape, Y_train.shape)\n",
    "print(X_cv.shape, Y_cv.shape)\n",
    "print(X_test.shape, Y_test.shape)"
   ]
  },
  {
   "cell_type": "code",
   "execution_count": 5,
   "metadata": {},
   "outputs": [
    {
     "data": {
      "text/html": [
       "<div>\n",
       "<style scoped>\n",
       "    .dataframe tbody tr th:only-of-type {\n",
       "        vertical-align: middle;\n",
       "    }\n",
       "\n",
       "    .dataframe tbody tr th {\n",
       "        vertical-align: top;\n",
       "    }\n",
       "\n",
       "    .dataframe thead th {\n",
       "        text-align: right;\n",
       "    }\n",
       "</style>\n",
       "<table border=\"1\" class=\"dataframe\">\n",
       "  <thead>\n",
       "    <tr style=\"text-align: right;\">\n",
       "      <th></th>\n",
       "      <th>school_state</th>\n",
       "      <th>teacher_prefix</th>\n",
       "      <th>project_grade_category</th>\n",
       "      <th>teacher_number_of_previously_posted_projects</th>\n",
       "      <th>project_is_approved</th>\n",
       "      <th>clean_categories</th>\n",
       "      <th>clean_subcategories</th>\n",
       "      <th>essay</th>\n",
       "      <th>price</th>\n",
       "    </tr>\n",
       "  </thead>\n",
       "  <tbody>\n",
       "    <tr>\n",
       "      <th>0</th>\n",
       "      <td>ca</td>\n",
       "      <td>mrs</td>\n",
       "      <td>grades_prek_2</td>\n",
       "      <td>53</td>\n",
       "      <td>1</td>\n",
       "      <td>math_science</td>\n",
       "      <td>appliedsciences health_lifescience</td>\n",
       "      <td>i fortunate enough use fairy tale stem kits cl...</td>\n",
       "      <td>725.05</td>\n",
       "    </tr>\n",
       "    <tr>\n",
       "      <th>1</th>\n",
       "      <td>ut</td>\n",
       "      <td>ms</td>\n",
       "      <td>grades_3_5</td>\n",
       "      <td>4</td>\n",
       "      <td>1</td>\n",
       "      <td>specialneeds</td>\n",
       "      <td>specialneeds</td>\n",
       "      <td>imagine 8 9 years old you third grade classroo...</td>\n",
       "      <td>213.03</td>\n",
       "    </tr>\n",
       "    <tr>\n",
       "      <th>2</th>\n",
       "      <td>ca</td>\n",
       "      <td>mrs</td>\n",
       "      <td>grades_prek_2</td>\n",
       "      <td>10</td>\n",
       "      <td>1</td>\n",
       "      <td>literacy_language</td>\n",
       "      <td>literacy</td>\n",
       "      <td>having class 24 students comes diverse learner...</td>\n",
       "      <td>329.00</td>\n",
       "    </tr>\n",
       "    <tr>\n",
       "      <th>3</th>\n",
       "      <td>ga</td>\n",
       "      <td>mrs</td>\n",
       "      <td>grades_prek_2</td>\n",
       "      <td>2</td>\n",
       "      <td>1</td>\n",
       "      <td>appliedlearning</td>\n",
       "      <td>earlydevelopment</td>\n",
       "      <td>i recently read article giving students choice...</td>\n",
       "      <td>481.04</td>\n",
       "    </tr>\n",
       "    <tr>\n",
       "      <th>4</th>\n",
       "      <td>wa</td>\n",
       "      <td>mrs</td>\n",
       "      <td>grades_3_5</td>\n",
       "      <td>2</td>\n",
       "      <td>1</td>\n",
       "      <td>literacy_language</td>\n",
       "      <td>literacy</td>\n",
       "      <td>my students crave challenge eat obstacles brea...</td>\n",
       "      <td>17.74</td>\n",
       "    </tr>\n",
       "  </tbody>\n",
       "</table>\n",
       "</div>"
      ],
      "text/plain": [
       "  school_state teacher_prefix project_grade_category  \\\n",
       "0           ca            mrs          grades_prek_2   \n",
       "1           ut             ms             grades_3_5   \n",
       "2           ca            mrs          grades_prek_2   \n",
       "3           ga            mrs          grades_prek_2   \n",
       "4           wa            mrs             grades_3_5   \n",
       "\n",
       "   teacher_number_of_previously_posted_projects  project_is_approved  \\\n",
       "0                                            53                    1   \n",
       "1                                             4                    1   \n",
       "2                                            10                    1   \n",
       "3                                             2                    1   \n",
       "4                                             2                    1   \n",
       "\n",
       "    clean_categories                 clean_subcategories  \\\n",
       "0       math_science  appliedsciences health_lifescience   \n",
       "1       specialneeds                        specialneeds   \n",
       "2  literacy_language                            literacy   \n",
       "3    appliedlearning                    earlydevelopment   \n",
       "4  literacy_language                            literacy   \n",
       "\n",
       "                                               essay   price  \n",
       "0  i fortunate enough use fairy tale stem kits cl...  725.05  \n",
       "1  imagine 8 9 years old you third grade classroo...  213.03  \n",
       "2  having class 24 students comes diverse learner...  329.00  \n",
       "3  i recently read article giving students choice...  481.04  \n",
       "4  my students crave challenge eat obstacles brea...   17.74  "
      ]
     },
     "execution_count": 5,
     "metadata": {},
     "output_type": "execute_result"
    }
   ],
   "source": [
    "data.head(5)"
   ]
  },
  {
   "cell_type": "markdown",
   "metadata": {
    "colab_type": "text",
    "id": "EnZwVNULb3dO"
   },
   "source": [
    "<h2>1.3 Make Data Model Ready: encoding eassay, and project_title</h2>"
   ]
  },
  {
   "cell_type": "code",
   "execution_count": 6,
   "metadata": {
    "colab": {},
    "colab_type": "code",
    "id": "-SczZKiab3dR"
   },
   "outputs": [],
   "source": [
    "# please write all the code with proper documentation, and proper titles for each subsection\n",
    "# go through documentations and blogs before you start coding\n",
    "# first figure out what to do, and then think about how to do.\n",
    "# reading and understanding error messages will be very much helpfull in debugging your code\n",
    "# make sure you featurize train and test data separatly\n",
    "\n",
    "# when you plot any graph make sure you use \n",
    "    # a. Title, that describes your plot, this will be very helpful to the reader\n",
    "    # b. Legends if needed\n",
    "    # c. X-axis label\n",
    "    # d. Y-axis label"
   ]
  },
  {
   "cell_type": "markdown",
   "metadata": {},
   "source": [
    "## Set - 1 BOW ##\n",
    "## Essay ##"
   ]
  },
  {
   "cell_type": "code",
   "execution_count": 7,
   "metadata": {},
   "outputs": [
    {
     "name": "stdout",
     "output_type": "stream",
     "text": [
      "(49041, 8) (49041,)\n",
      "(24155, 8) (24155,)\n",
      "(36052, 8) (36052,)\n",
      "====================================================================================================\n",
      "After vectorizations\n",
      "(49041, 5000) (49041,)\n",
      "(24155, 5000) (24155,)\n",
      "(36052, 5000) (36052,)\n",
      "====================================================================================================\n"
     ]
    }
   ],
   "source": [
    "print(X_train.shape, Y_train.shape)\n",
    "print(X_cv.shape, Y_cv.shape)\n",
    "print(X_test.shape, Y_test.shape)\n",
    "\n",
    "print(\"=\"*100)\n",
    "\n",
    "\n",
    "vectorizer = CountVectorizer(min_df=10,ngram_range=(1,3), max_features=5000)\n",
    "vectorizer.fit(X_train['essay'].values) # fit has to happen only on train data\n",
    "\n",
    "# we use the fitted CountVectorizer to convert the text to vector\n",
    "X_train_essay_bow = vectorizer.transform(X_train['essay'].values)\n",
    "X_cv_essay_bow = vectorizer.transform(X_cv['essay'].values)\n",
    "X_test_essay_bow = vectorizer.transform(X_test['essay'].values)\n",
    "\n",
    "print(\"After vectorizations\")\n",
    "print(X_train_essay_bow.shape, Y_train.shape)\n",
    "print(X_cv_essay_bow.shape, Y_cv.shape)\n",
    "print(X_test_essay_bow.shape, Y_test.shape)\n",
    "print(\"=\"*100)\n",
    "\n",
    "ES = vectorizer.get_feature_names()"
   ]
  },
  {
   "cell_type": "code",
   "execution_count": null,
   "metadata": {},
   "outputs": [],
   "source": []
  },
  {
   "cell_type": "markdown",
   "metadata": {
    "colab_type": "text",
    "id": "bGy86kgHb3dX"
   },
   "source": [
    "<h2>1.4 Make Data Model Ready: encoding numerical, categorical features</h2>"
   ]
  },
  {
   "cell_type": "markdown",
   "metadata": {},
   "source": [
    "## School_State ##"
   ]
  },
  {
   "cell_type": "code",
   "execution_count": 8,
   "metadata": {
    "colab": {},
    "colab_type": "code",
    "id": "EfXkofX1b3da",
    "scrolled": true
   },
   "outputs": [
    {
     "name": "stdout",
     "output_type": "stream",
     "text": [
      "(49041, 8) (49041,)\n",
      "(24155, 8) (24155,)\n",
      "(36052, 8) (36052,)\n",
      "====================================================================================================\n",
      "After vectorizations\n",
      "(49041, 51) (49041,)\n",
      "(24155, 51) (24155,)\n",
      "(36052, 51) (36052,)\n",
      "['ak', 'al', 'ar', 'az', 'ca', 'co', 'ct', 'dc', 'de', 'fl', 'ga', 'hi', 'ia', 'id', 'il', 'in', 'ks', 'ky', 'la', 'ma', 'md', 'me', 'mi', 'mn', 'mo', 'ms', 'mt', 'nc', 'nd', 'ne', 'nh', 'nj', 'nm', 'nv', 'ny', 'oh', 'ok', 'or', 'pa', 'ri', 'sc', 'sd', 'tn', 'tx', 'ut', 'va', 'vt', 'wa', 'wi', 'wv', 'wy']\n",
      "====================================================================================================\n"
     ]
    }
   ],
   "source": [
    "# please write all the code with proper documentation, and proper titles for each subsection\n",
    "# go through documentations and blogs before you start coding \n",
    "# first figure out what to do, and then think about how to do.\n",
    "# reading and understanding error messages will be very much helpfull in debugging your code\n",
    "# make sure you featurize train and test data separatly\n",
    "\n",
    "# when you plot any graph make sure you use \n",
    "    # a. Title, that describes your plot, this will be very helpful to the reader\n",
    "    # b. Legends if needed\n",
    "    # c. X-axis label\n",
    "    # d. Y-axis label\n",
    "    \n",
    "print(X_train.shape, Y_train.shape)\n",
    "print(X_cv.shape, Y_cv.shape)\n",
    "print(X_test.shape, Y_test.shape)\n",
    "\n",
    "print(\"=\"*100)\n",
    "    \n",
    "vectorizer = CountVectorizer()\n",
    "vectorizer.fit(X_train['school_state'].values) # fit has to happen only on train data\n",
    "X_train_state_ohe = vectorizer.transform(X_train['school_state'].values)\n",
    "X_cv_state_ohe = vectorizer.transform(X_cv['school_state'].values)\n",
    "X_test_state_ohe = vectorizer.transform(X_test['school_state'].values)\n",
    "\n",
    "print(\"After vectorizations\")\n",
    "print(X_train_state_ohe.shape, Y_train.shape)\n",
    "print(X_cv_state_ohe.shape, Y_cv.shape)\n",
    "print(X_test_state_ohe.shape, Y_test.shape)\n",
    "print(vectorizer.get_feature_names())\n",
    "print(\"=\"*100)\n",
    "\n",
    "SS = vectorizer.get_feature_names() "
   ]
  },
  {
   "cell_type": "markdown",
   "metadata": {},
   "source": [
    "## Teacher_prefix ##"
   ]
  },
  {
   "cell_type": "code",
   "execution_count": 9,
   "metadata": {},
   "outputs": [
    {
     "name": "stdout",
     "output_type": "stream",
     "text": [
      "(49041, 8) (49041,)\n",
      "(24155, 8) (24155,)\n",
      "(36052, 8) (36052,)\n",
      "====================================================================================================\n",
      "After vectorizations\n",
      "(49041, 5) (49041,)\n",
      "(24155, 5) (24155,)\n",
      "(36052, 5) (36052,)\n",
      "['dr', 'mr', 'mrs', 'ms', 'teacher']\n",
      "====================================================================================================\n"
     ]
    }
   ],
   "source": [
    "print(X_train.shape, Y_train.shape)\n",
    "print(X_cv.shape, Y_cv.shape)\n",
    "print(X_test.shape, Y_test.shape)\n",
    "\n",
    "print(\"=\"*100)\n",
    "\n",
    "vectorizer = CountVectorizer()\n",
    "vectorizer.fit(X_train['teacher_prefix'].values) # fit has to happen only on train data\n",
    "\n",
    "# we use the fitted CountVectorizer to convert the text to vector\n",
    "X_train_teacher_ohe = vectorizer.transform(X_train['teacher_prefix'].values)\n",
    "X_cv_teacher_ohe = vectorizer.transform(X_cv['teacher_prefix'].values)\n",
    "X_test_teacher_ohe = vectorizer.transform(X_test['teacher_prefix'].values)\n",
    "\n",
    "print(\"After vectorizations\")\n",
    "print(X_train_teacher_ohe.shape, Y_train.shape)\n",
    "print(X_cv_teacher_ohe.shape, Y_cv.shape)\n",
    "print(X_test_teacher_ohe.shape, Y_test.shape)\n",
    "print(vectorizer.get_feature_names())\n",
    "print(\"=\"*100)\n",
    "\n",
    "TP = vectorizer.get_feature_names()"
   ]
  },
  {
   "cell_type": "markdown",
   "metadata": {},
   "source": [
    "## Project_Grade_Category ##"
   ]
  },
  {
   "cell_type": "code",
   "execution_count": 10,
   "metadata": {},
   "outputs": [
    {
     "name": "stdout",
     "output_type": "stream",
     "text": [
      "(49041, 8) (49041,)\n",
      "(24155, 8) (24155,)\n",
      "(36052, 8) (36052,)\n",
      "====================================================================================================\n",
      "After vectorizations\n",
      "(49041, 4) (49041,)\n",
      "(24155, 4) (24155,)\n",
      "(36052, 4) (36052,)\n",
      "['grades_3_5', 'grades_6_8', 'grades_9_12', 'grades_prek_2']\n",
      "====================================================================================================\n"
     ]
    }
   ],
   "source": [
    "print(X_train.shape, Y_train.shape)\n",
    "print(X_cv.shape, Y_cv.shape)\n",
    "print(X_test.shape, Y_test.shape)\n",
    "\n",
    "print(\"=\"*100)\n",
    "\n",
    "vectorizer = CountVectorizer()\n",
    "vectorizer.fit(X_train['project_grade_category'].values) # fit has to happen only on train data\n",
    "\n",
    "# we use the fitted CountVectorizer to convert the text to vector\n",
    "X_train_grade_ohe = vectorizer.transform(X_train['project_grade_category'].values)\n",
    "X_cv_grade_ohe = vectorizer.transform(X_cv['project_grade_category'].values)\n",
    "X_test_grade_ohe = vectorizer.transform(X_test['project_grade_category'].values)\n",
    "\n",
    "print(\"After vectorizations\")\n",
    "print(X_train_grade_ohe.shape, Y_train.shape)\n",
    "print(X_cv_grade_ohe.shape, Y_cv.shape)\n",
    "print(X_test_grade_ohe.shape, Y_test.shape)\n",
    "print(vectorizer.get_feature_names())\n",
    "print(\"=\"*100)\n",
    "\n",
    "PGC = vectorizer.get_feature_names()"
   ]
  },
  {
   "cell_type": "markdown",
   "metadata": {},
   "source": [
    "## Clean_Categories ##"
   ]
  },
  {
   "cell_type": "code",
   "execution_count": 11,
   "metadata": {},
   "outputs": [
    {
     "name": "stdout",
     "output_type": "stream",
     "text": [
      "(49041, 8) (49041,)\n",
      "(24155, 8) (24155,)\n",
      "(36052, 8) (36052,)\n",
      "====================================================================================================\n",
      "After vectorizations\n",
      "(49041, 9) (49041,)\n",
      "(24155, 9) (24155,)\n",
      "(36052, 9) (36052,)\n",
      "['appliedlearning', 'care_hunger', 'health_sports', 'history_civics', 'literacy_language', 'math_science', 'music_arts', 'specialneeds', 'warmth']\n",
      "====================================================================================================\n"
     ]
    }
   ],
   "source": [
    "print(X_train.shape, Y_train.shape)\n",
    "print(X_cv.shape, Y_cv.shape)\n",
    "print(X_test.shape, Y_test.shape)\n",
    "\n",
    "print(\"=\"*100)\n",
    "\n",
    "vectorizer = CountVectorizer()\n",
    "vectorizer.fit(X_train['clean_categories'].values) # fit has to happen only on train data\n",
    "\n",
    "# we use the fitted CountVectorizer to convert the text to vector\n",
    "X_train_cat = vectorizer.transform(X_train['clean_categories'].values)\n",
    "X_cv_cat = vectorizer.transform(X_cv['clean_categories'].values)\n",
    "X_test_cat = vectorizer.transform(X_test['clean_categories'].values)\n",
    "\n",
    "print(\"After vectorizations\")\n",
    "print(X_train_cat.shape, Y_train.shape)\n",
    "print(X_cv_cat.shape, Y_cv.shape)\n",
    "print(X_test_cat.shape, Y_test.shape)\n",
    "print(vectorizer.get_feature_names())\n",
    "print(\"=\"*100)\n",
    "\n",
    "CC = vectorizer.get_feature_names()"
   ]
  },
  {
   "cell_type": "markdown",
   "metadata": {},
   "source": [
    "## Clean_SubCategories ##"
   ]
  },
  {
   "cell_type": "code",
   "execution_count": 12,
   "metadata": {},
   "outputs": [
    {
     "name": "stdout",
     "output_type": "stream",
     "text": [
      "(49041, 8) (49041,)\n",
      "(24155, 8) (24155,)\n",
      "(36052, 8) (36052,)\n",
      "====================================================================================================\n",
      "After vectorizations\n",
      "(49041, 30) (49041,)\n",
      "(24155, 30) (24155,)\n",
      "(36052, 30) (36052,)\n",
      "['appliedsciences', 'care_hunger', 'charactereducation', 'civics_government', 'college_careerprep', 'communityservice', 'earlydevelopment', 'economics', 'environmentalscience', 'esl', 'extracurricular', 'financialliteracy', 'foreignlanguages', 'gym_fitness', 'health_lifescience', 'health_wellness', 'history_geography', 'literacy', 'literature_writing', 'mathematics', 'music', 'nutritioneducation', 'other', 'parentinvolvement', 'performingarts', 'socialsciences', 'specialneeds', 'teamsports', 'visualarts', 'warmth']\n",
      "====================================================================================================\n"
     ]
    }
   ],
   "source": [
    "print(X_train.shape, Y_train.shape)\n",
    "print(X_cv.shape, Y_cv.shape)\n",
    "print(X_test.shape, Y_test.shape)\n",
    "\n",
    "print(\"=\"*100)\n",
    "\n",
    "vectorizer = CountVectorizer()\n",
    "vectorizer.fit(X_train['clean_subcategories'].values) # fit has to happen only on train data\n",
    "\n",
    "# we use the fitted CountVectorizer to convert the text to vector\n",
    "X_train_sub_cat = vectorizer.transform(X_train['clean_subcategories'].values)\n",
    "X_cv_sub_cat = vectorizer.transform(X_cv['clean_subcategories'].values)\n",
    "X_test_sub_cat = vectorizer.transform(X_test['clean_subcategories'].values)\n",
    "\n",
    "print(\"After vectorizations\")\n",
    "print(X_train_sub_cat.shape, Y_train.shape)\n",
    "print(X_cv_sub_cat.shape, Y_cv.shape)\n",
    "print(X_test_sub_cat.shape, Y_test.shape)\n",
    "print(vectorizer.get_feature_names())\n",
    "print(\"=\"*100)\n",
    "\n",
    "CSC = vectorizer.get_feature_names()"
   ]
  },
  {
   "cell_type": "markdown",
   "metadata": {},
   "source": [
    "## Price ##"
   ]
  },
  {
   "cell_type": "code",
   "execution_count": 13,
   "metadata": {},
   "outputs": [
    {
     "name": "stdout",
     "output_type": "stream",
     "text": [
      "After vectorizations\n",
      "(49041, 1) (49041,)\n",
      "(24155, 1) (24155,)\n",
      "(36052, 1) (36052,)\n",
      "====================================================================================================\n"
     ]
    }
   ],
   "source": [
    "from sklearn.preprocessing import Normalizer\n",
    "normalizer = Normalizer()\n",
    "normalizer.fit(X_train['price'].values.reshape(1,-1))\n",
    "\n",
    "X_train_price_norm = normalizer.transform(X_train['price'].values.reshape(1,-1))\n",
    "X_cv_price_norm = normalizer.transform(X_cv['price'].values.reshape(1,-1))\n",
    "X_test_price_norm = normalizer.transform(X_test['price'].values.reshape(1,-1))\n",
    "\n",
    "X_train_price_norm = X_train_price_norm.reshape(-1,1)\n",
    "X_cv_price_norm = X_cv_price_norm.reshape(-1,1)\n",
    "X_test_price_norm = X_test_price_norm.reshape(-1,1)\n",
    "\n",
    "print(\"After vectorizations\")\n",
    "print(X_train_price_norm.shape, Y_train.shape)\n",
    "print(X_cv_price_norm.shape, Y_cv.shape)\n",
    "print(X_test_price_norm.shape, Y_test.shape)\n",
    "print(\"=\"*100)"
   ]
  },
  {
   "cell_type": "code",
   "execution_count": 14,
   "metadata": {},
   "outputs": [
    {
     "name": "stdout",
     "output_type": "stream",
     "text": [
      "Final Data matrix\n",
      "(49041, 5100) (49041,)\n",
      "(24155, 5100) (24155,)\n",
      "(36052, 5100) (36052,)\n",
      "====================================================================================================\n"
     ]
    }
   ],
   "source": [
    "# merge two sparse matrices: https://stackoverflow.com/a/19710648/4084039\n",
    "from scipy.sparse import hstack\n",
    "X_tr = hstack((X_train_essay_bow, X_train_state_ohe, X_train_teacher_ohe, X_train_grade_ohe, X_train_cat, X_train_sub_cat, X_train_price_norm)).tocsr()\n",
    "X_cr = hstack((X_cv_essay_bow, X_cv_state_ohe, X_cv_teacher_ohe, X_cv_grade_ohe, X_cv_cat, X_cv_sub_cat, X_cv_price_norm)).tocsr()\n",
    "X_te = hstack((X_test_essay_bow, X_test_state_ohe, X_test_teacher_ohe, X_test_grade_ohe, X_test_cat, X_test_sub_cat, X_test_price_norm)).tocsr()\n",
    "\n",
    "print(\"Final Data matrix\")\n",
    "print(X_tr.shape, Y_train.shape)\n",
    "print(X_cr.shape, Y_cv.shape)\n",
    "print(X_te.shape, Y_test.shape)\n",
    "print(\"=\"*100)"
   ]
  },
  {
   "cell_type": "code",
   "execution_count": null,
   "metadata": {},
   "outputs": [],
   "source": []
  },
  {
   "cell_type": "markdown",
   "metadata": {
    "colab_type": "text",
    "id": "yYHPYadYb3dh"
   },
   "source": [
    "<h2>1.5 Appling NB on different kind of featurization as mentioned in the instructions</h2>\n",
    "\n",
    "<br>Apply NB on different kind of featurization as mentioned in the instructions\n",
    "<br> For Every model that you work on make sure you do the step 2 and step 3 of instrucations"
   ]
  },
  {
   "cell_type": "code",
   "execution_count": 15,
   "metadata": {
    "colab": {},
    "colab_type": "code",
    "id": "DNwqilFxb3di"
   },
   "outputs": [],
   "source": [
    "# please write all the code with proper documentation, and proper titles for each subsection\n",
    "# go through documentations and blogs before you start coding\n",
    "# first figure out what to do, and then think about how to do.\n",
    "# reading and understanding error messages will be very much helpfull in debugging your code\n",
    "# when you plot any graph make sure you use \n",
    "    # a. Title, that describes your plot, this will be very helpful to the reader\n",
    "    # b. Legends if needed\n",
    "    # c. X-axis label\n",
    "    # d. Y-axis label"
   ]
  },
  {
   "cell_type": "code",
   "execution_count": 16,
   "metadata": {},
   "outputs": [
    {
     "data": {
      "image/png": "[encoded data removed]",
      "text/plain": [
       "<Figure size 432x288 with 1 Axes>"
      ]
     },
     "metadata": {},
     "output_type": "display_data"
    },
    {
     "data": {
      "text/html": [
       "<div>\n",
       "<style scoped>\n",
       "    .dataframe tbody tr th:only-of-type {\n",
       "        vertical-align: middle;\n",
       "    }\n",
       "\n",
       "    .dataframe tbody tr th {\n",
       "        vertical-align: top;\n",
       "    }\n",
       "\n",
       "    .dataframe thead th {\n",
       "        text-align: right;\n",
       "    }\n",
       "</style>\n",
       "<table border=\"1\" class=\"dataframe\">\n",
       "  <thead>\n",
       "    <tr style=\"text-align: right;\">\n",
       "      <th></th>\n",
       "      <th>mean_fit_time</th>\n",
       "      <th>std_fit_time</th>\n",
       "      <th>mean_score_time</th>\n",
       "      <th>std_score_time</th>\n",
       "      <th>param_alpha</th>\n",
       "      <th>params</th>\n",
       "      <th>split0_test_score</th>\n",
       "      <th>split1_test_score</th>\n",
       "      <th>split2_test_score</th>\n",
       "      <th>split3_test_score</th>\n",
       "      <th>...</th>\n",
       "      <th>split2_train_score</th>\n",
       "      <th>split3_train_score</th>\n",
       "      <th>split4_train_score</th>\n",
       "      <th>split5_train_score</th>\n",
       "      <th>split6_train_score</th>\n",
       "      <th>split7_train_score</th>\n",
       "      <th>split8_train_score</th>\n",
       "      <th>split9_train_score</th>\n",
       "      <th>mean_train_score</th>\n",
       "      <th>std_train_score</th>\n",
       "    </tr>\n",
       "  </thead>\n",
       "  <tbody>\n",
       "    <tr>\n",
       "      <th>0</th>\n",
       "      <td>0.223759</td>\n",
       "      <td>0.026267</td>\n",
       "      <td>0.010372</td>\n",
       "      <td>0.002795</td>\n",
       "      <td>0.0001</td>\n",
       "      <td>{'alpha': 0.0001}</td>\n",
       "      <td>0.687551</td>\n",
       "      <td>0.679423</td>\n",
       "      <td>0.703148</td>\n",
       "      <td>0.694615</td>\n",
       "      <td>...</td>\n",
       "      <td>0.725357</td>\n",
       "      <td>0.725852</td>\n",
       "      <td>0.726210</td>\n",
       "      <td>0.727871</td>\n",
       "      <td>0.728346</td>\n",
       "      <td>0.726883</td>\n",
       "      <td>0.724921</td>\n",
       "      <td>0.726607</td>\n",
       "      <td>0.726453</td>\n",
       "      <td>0.000998</td>\n",
       "    </tr>\n",
       "    <tr>\n",
       "      <th>1</th>\n",
       "      <td>0.230515</td>\n",
       "      <td>0.025912</td>\n",
       "      <td>0.012237</td>\n",
       "      <td>0.002014</td>\n",
       "      <td>0.001</td>\n",
       "      <td>{'alpha': 0.001}</td>\n",
       "      <td>0.687549</td>\n",
       "      <td>0.679422</td>\n",
       "      <td>0.703146</td>\n",
       "      <td>0.694616</td>\n",
       "      <td>...</td>\n",
       "      <td>0.725356</td>\n",
       "      <td>0.725851</td>\n",
       "      <td>0.726209</td>\n",
       "      <td>0.727871</td>\n",
       "      <td>0.728345</td>\n",
       "      <td>0.726882</td>\n",
       "      <td>0.724917</td>\n",
       "      <td>0.726607</td>\n",
       "      <td>0.726452</td>\n",
       "      <td>0.000998</td>\n",
       "    </tr>\n",
       "    <tr>\n",
       "      <th>2</th>\n",
       "      <td>0.235384</td>\n",
       "      <td>0.028175</td>\n",
       "      <td>0.010989</td>\n",
       "      <td>0.002366</td>\n",
       "      <td>0.01</td>\n",
       "      <td>{'alpha': 0.01}</td>\n",
       "      <td>0.687548</td>\n",
       "      <td>0.679426</td>\n",
       "      <td>0.703141</td>\n",
       "      <td>0.694612</td>\n",
       "      <td>...</td>\n",
       "      <td>0.725350</td>\n",
       "      <td>0.725845</td>\n",
       "      <td>0.726202</td>\n",
       "      <td>0.727865</td>\n",
       "      <td>0.728339</td>\n",
       "      <td>0.726876</td>\n",
       "      <td>0.724906</td>\n",
       "      <td>0.726600</td>\n",
       "      <td>0.726445</td>\n",
       "      <td>0.000999</td>\n",
       "    </tr>\n",
       "    <tr>\n",
       "      <th>3</th>\n",
       "      <td>0.258365</td>\n",
       "      <td>0.031024</td>\n",
       "      <td>0.014389</td>\n",
       "      <td>0.006416</td>\n",
       "      <td>0.1</td>\n",
       "      <td>{'alpha': 0.1}</td>\n",
       "      <td>0.687467</td>\n",
       "      <td>0.679390</td>\n",
       "      <td>0.703092</td>\n",
       "      <td>0.694564</td>\n",
       "      <td>...</td>\n",
       "      <td>0.725288</td>\n",
       "      <td>0.725780</td>\n",
       "      <td>0.726138</td>\n",
       "      <td>0.727801</td>\n",
       "      <td>0.728272</td>\n",
       "      <td>0.726812</td>\n",
       "      <td>0.724837</td>\n",
       "      <td>0.726535</td>\n",
       "      <td>0.726381</td>\n",
       "      <td>0.001000</td>\n",
       "    </tr>\n",
       "    <tr>\n",
       "      <th>4</th>\n",
       "      <td>0.241377</td>\n",
       "      <td>0.033209</td>\n",
       "      <td>0.011037</td>\n",
       "      <td>0.001934</td>\n",
       "      <td>1</td>\n",
       "      <td>{'alpha': 1}</td>\n",
       "      <td>0.686856</td>\n",
       "      <td>0.678936</td>\n",
       "      <td>0.702714</td>\n",
       "      <td>0.694190</td>\n",
       "      <td>...</td>\n",
       "      <td>0.724667</td>\n",
       "      <td>0.725116</td>\n",
       "      <td>0.725493</td>\n",
       "      <td>0.727168</td>\n",
       "      <td>0.727616</td>\n",
       "      <td>0.726174</td>\n",
       "      <td>0.724188</td>\n",
       "      <td>0.725891</td>\n",
       "      <td>0.725737</td>\n",
       "      <td>0.000999</td>\n",
       "    </tr>\n",
       "    <tr>\n",
       "      <th>5</th>\n",
       "      <td>0.251230</td>\n",
       "      <td>0.029544</td>\n",
       "      <td>0.010443</td>\n",
       "      <td>0.001228</td>\n",
       "      <td>10</td>\n",
       "      <td>{'alpha': 10}</td>\n",
       "      <td>0.680866</td>\n",
       "      <td>0.674276</td>\n",
       "      <td>0.698330</td>\n",
       "      <td>0.690389</td>\n",
       "      <td>...</td>\n",
       "      <td>0.718398</td>\n",
       "      <td>0.718479</td>\n",
       "      <td>0.719000</td>\n",
       "      <td>0.720903</td>\n",
       "      <td>0.721077</td>\n",
       "      <td>0.719826</td>\n",
       "      <td>0.717840</td>\n",
       "      <td>0.719451</td>\n",
       "      <td>0.719322</td>\n",
       "      <td>0.000999</td>\n",
       "    </tr>\n",
       "    <tr>\n",
       "      <th>6</th>\n",
       "      <td>0.241161</td>\n",
       "      <td>0.018578</td>\n",
       "      <td>0.011946</td>\n",
       "      <td>0.002702</td>\n",
       "      <td>100</td>\n",
       "      <td>{'alpha': 100}</td>\n",
       "      <td>0.638557</td>\n",
       "      <td>0.633522</td>\n",
       "      <td>0.652345</td>\n",
       "      <td>0.658951</td>\n",
       "      <td>...</td>\n",
       "      <td>0.664567</td>\n",
       "      <td>0.663317</td>\n",
       "      <td>0.664599</td>\n",
       "      <td>0.668253</td>\n",
       "      <td>0.666471</td>\n",
       "      <td>0.666568</td>\n",
       "      <td>0.664068</td>\n",
       "      <td>0.665818</td>\n",
       "      <td>0.665532</td>\n",
       "      <td>0.001359</td>\n",
       "    </tr>\n",
       "  </tbody>\n",
       "</table>\n",
       "<p>7 rows × 31 columns</p>\n",
       "</div>"
      ],
      "text/plain": [
       "   mean_fit_time  std_fit_time  mean_score_time  std_score_time param_alpha  \\\n",
       "0       0.223759      0.026267         0.010372        0.002795      0.0001   \n",
       "1       0.230515      0.025912         0.012237        0.002014       0.001   \n",
       "2       0.235384      0.028175         0.010989        0.002366        0.01   \n",
       "3       0.258365      0.031024         0.014389        0.006416         0.1   \n",
       "4       0.241377      0.033209         0.011037        0.001934           1   \n",
       "5       0.251230      0.029544         0.010443        0.001228          10   \n",
       "6       0.241161      0.018578         0.011946        0.002702         100   \n",
       "\n",
       "              params  split0_test_score  split1_test_score  split2_test_score  \\\n",
       "0  {'alpha': 0.0001}           0.687551           0.679423           0.703148   \n",
       "1   {'alpha': 0.001}           0.687549           0.679422           0.703146   \n",
       "2    {'alpha': 0.01}           0.687548           0.679426           0.703141   \n",
       "3     {'alpha': 0.1}           0.687467           0.679390           0.703092   \n",
       "4       {'alpha': 1}           0.686856           0.678936           0.702714   \n",
       "5      {'alpha': 10}           0.680866           0.674276           0.698330   \n",
       "6     {'alpha': 100}           0.638557           0.633522           0.652345   \n",
       "\n",
       "   split3_test_score  ...  split2_train_score  split3_train_score  \\\n",
       "0           0.694615  ...            0.725357            0.725852   \n",
       "1           0.694616  ...            0.725356            0.725851   \n",
       "2           0.694612  ...            0.725350            0.725845   \n",
       "3           0.694564  ...            0.725288            0.725780   \n",
       "4           0.694190  ...            0.724667            0.725116   \n",
       "5           0.690389  ...            0.718398            0.718479   \n",
       "6           0.658951  ...            0.664567            0.663317   \n",
       "\n",
       "   split4_train_score  split5_train_score  split6_train_score  \\\n",
       "0            0.726210            0.727871            0.728346   \n",
       "1            0.726209            0.727871            0.728345   \n",
       "2            0.726202            0.727865            0.728339   \n",
       "3            0.726138            0.727801            0.728272   \n",
       "4            0.725493            0.727168            0.727616   \n",
       "5            0.719000            0.720903            0.721077   \n",
       "6            0.664599            0.668253            0.666471   \n",
       "\n",
       "   split7_train_score  split8_train_score  split9_train_score  \\\n",
       "0            0.726883            0.724921            0.726607   \n",
       "1            0.726882            0.724917            0.726607   \n",
       "2            0.726876            0.724906            0.726600   \n",
       "3            0.726812            0.724837            0.726535   \n",
       "4            0.726174            0.724188            0.725891   \n",
       "5            0.719826            0.717840            0.719451   \n",
       "6            0.666568            0.664068            0.665818   \n",
       "\n",
       "   mean_train_score  std_train_score  \n",
       "0          0.726453         0.000998  \n",
       "1          0.726452         0.000998  \n",
       "2          0.726445         0.000999  \n",
       "3          0.726381         0.001000  \n",
       "4          0.725737         0.000999  \n",
       "5          0.719322         0.000999  \n",
       "6          0.665532         0.001359  \n",
       "\n",
       "[7 rows x 31 columns]"
      ]
     },
     "execution_count": 16,
     "metadata": {},
     "output_type": "execute_result"
    }
   ],
   "source": [
    "from sklearn.model_selection import GridSearchCV\n",
    "from scipy.stats import randint as sp_randint\n",
    "from sklearn.model_selection import RandomizedSearchCV\n",
    "from sklearn.naive_bayes import MultinomialNB\n",
    "from math import log\n",
    "prior = [0.5, 0.5]\n",
    "NB = MultinomialNB(class_prior = prior)\n",
    "parameters = {'alpha':[0.0001, 0.001, 0.01, 0.1, 1, 10, 100]}\n",
    "clf = GridSearchCV(NB, parameters, cv=10, scoring='roc_auc', n_jobs = -1)\n",
    "clf.fit(X_tr, Y_train)\n",
    "\n",
    "results = pd.DataFrame.from_dict(clf.cv_results_)\n",
    "results = results.sort_values(['param_alpha'])\n",
    "\n",
    "train_auc= results['mean_train_score']\n",
    "train_auc_std= results['std_train_score']\n",
    "cv_auc = results['mean_test_score'] \n",
    "cv_auc_std= results['std_test_score']\n",
    "K =  results['param_alpha']\n",
    "K =  [log(u,10) for u in K]\n",
    "\n",
    "plt.plot(K, train_auc, label='Train AUC')\n",
    "# this code is copied from here: https://stackoverflow.com/a/48803361/4084039\n",
    "# plt.gca().fill_between(K, train_auc - train_auc_std,train_auc + train_auc_std,alpha=0.2,color='darkblue')\n",
    "\n",
    "plt.plot(K, cv_auc, label='CV AUC')\n",
    "# this code is copied from here: https://stackoverflow.com/a/48803361/4084039\n",
    "# plt.gca().fill_between(K, cv_auc - cv_auc_std,cv_auc + cv_auc_std,alpha=0.2,color='darkorange')\n",
    "\n",
    "plt.scatter(K, train_auc, label='Train AUC points')\n",
    "plt.scatter(K, cv_auc, label='CV AUC points')\n",
    "\n",
    "\n",
    "plt.legend()\n",
    "plt.xlabel(\"Alpha: hyperparameter\")\n",
    "plt.ylabel(\"AUC\")\n",
    "plt.title(\"Hyper parameter Vs AUC plot\")\n",
    "plt.grid()\n",
    "plt.show()\n",
    "\n",
    "results.head(7)\n"
   ]
  },
  {
   "cell_type": "code",
   "execution_count": 17,
   "metadata": {},
   "outputs": [
    {
     "data": {
      "image/png": "[encoded data removed]",
      "text/plain": [
       "<Figure size 432x288 with 1 Axes>"
      ]
     },
     "metadata": {},
     "output_type": "display_data"
    }
   ],
   "source": [
    "# https://scikit-learn.org/stable/modules/generated/sklearn.metrics.roc_curve.html#sklearn.metrics.roc_curve\n",
    "from sklearn.metrics import roc_curve, auc\n",
    "\n",
    "best_alpha = 0.1\n",
    "NB = MultinomialNB(alpha = best_alpha, class_prior = prior)\n",
    "NB.fit(X_tr, Y_train)\n",
    "# roc_auc_score(y_true, y_score) the 2nd parameter should be probability estimates of the positive class\n",
    "# not the predicted outputs\n",
    "\n",
    "y_train_pred = NB.predict_proba(X_tr)[:,1]\n",
    "y_test_pred = NB.predict_proba(X_te)[:,1]\n",
    "\n",
    "\n",
    "#y_train_pred = batch_predict(neigh, X_tr)    \n",
    "#y_test_pred = batch_predict(neigh, X_te)\n",
    "\n",
    "train_fpr, train_tpr, tr_thresholds = roc_curve(Y_train, y_train_pred)\n",
    "test_fpr, test_tpr, te_thresholds = roc_curve(Y_test, y_test_pred)\n",
    "\n",
    "plt.plot(train_fpr, train_tpr, label=\"train AUC =\"+str(auc(train_fpr, train_tpr)))\n",
    "plt.plot(test_fpr, test_tpr, label=\"test AUC =\"+str(auc(test_fpr, test_tpr)))\n",
    "plt.legend()\n",
    "plt.xlabel(\"FPR\")\n",
    "plt.ylabel(\"TPR\")\n",
    "plt.title(\"ERROR PLOTS\")\n",
    "plt.grid()\n",
    "plt.show()"
   ]
  },
  {
   "cell_type": "code",
   "execution_count": 18,
   "metadata": {},
   "outputs": [],
   "source": [
    "# we are writing our own function for predict, with defined thresould\n",
    "# we will pick a threshold that will give the least fpr\n",
    "def find_best_threshold(threshould, fpr, tpr):\n",
    "    t = threshould[np.argmax(tpr*(1-fpr))]\n",
    "    # (tpr*(1-fpr)) will be maximum if your fpr is very low and tpr is very high\n",
    "    print(\"the maximum value of tpr*(1-fpr)\", max(tpr*(1-fpr)), \"for threshold\", np.round(t,3))\n",
    "    return t\n",
    "\n",
    "def predict_with_best_t(proba, threshould):\n",
    "    predictions = []\n",
    "    for i in proba:\n",
    "        if i>=threshould:\n",
    "            predictions.append(1)\n",
    "        else:\n",
    "            predictions.append(0)\n",
    "    return predictions"
   ]
  },
  {
   "cell_type": "code",
   "execution_count": 19,
   "metadata": {},
   "outputs": [
    {
     "name": "stdout",
     "output_type": "stream",
     "text": [
      "====================================================================================================\n",
      "the maximum value of tpr*(1-fpr) 0.4479143019649779 for threshold 0.601\n",
      "Train confusion matrix\n",
      "[[ 5212  2214]\n",
      " [15057 26558]]\n",
      "Test confusion matrix\n",
      "[[ 3621  1838]\n",
      " [11385 19208]]\n"
     ]
    }
   ],
   "source": [
    "print(\"=\"*100)\n",
    "from sklearn.metrics import confusion_matrix\n",
    "best_t = find_best_threshold(tr_thresholds, train_fpr, train_tpr)\n",
    "print(\"Train confusion matrix\")\n",
    "print(confusion_matrix(Y_train, predict_with_best_t(y_train_pred, best_t)))\n",
    "print(\"Test confusion matrix\")\n",
    "print(confusion_matrix(Y_test, predict_with_best_t(y_test_pred, best_t)))"
   ]
  },
  {
   "cell_type": "code",
   "execution_count": 20,
   "metadata": {},
   "outputs": [
    {
     "data": {
      "image/png": "[encoded data removed]",
      "text/plain": [
       "<Figure size 432x288 with 2 Axes>"
      ]
     },
     "metadata": {},
     "output_type": "display_data"
    },
    {
     "data": {
      "image/png": "[encoded data removed]",
      "text/plain": [
       "<Figure size 432x288 with 2 Axes>"
      ]
     },
     "metadata": {},
     "output_type": "display_data"
    }
   ],
   "source": [
    "test_con=confusion_matrix(Y_test, predict_with_best_t(y_test_pred, best_t)) \n",
    "sns.heatmap(test_con,annot=True,cmap='Blues', fmt=\"d\") \n",
    "plt.xlabel(\" actual values\") \n",
    "plt.ylabel(\"predicted values\") \n",
    "plt.title(\"Test Confusion matrix\") \n",
    "plt.show()\n",
    "\n",
    "\n",
    "train_con=confusion_matrix(Y_train, predict_with_best_t(y_train_pred, best_t)) \n",
    "sns.heatmap(train_con,annot=True,cmap='Blues', fmt=\"d\") \n",
    "plt.xlabel(\" actual values\") \n",
    "plt.ylabel(\"predicted values\") \n",
    "plt.title(\"Train Confusion matrix\") \n",
    "plt.show()\n"
   ]
  },
  {
   "cell_type": "markdown",
   "metadata": {},
   "source": [
    "## 2. Top 20 features using BOW ##"
   ]
  },
  {
   "cell_type": "code",
   "execution_count": 21,
   "metadata": {},
   "outputs": [],
   "source": [
    "s = [ES, SS, TP, PGC, CC, CSC, 'Price']\n",
    "z = np.append(ES, SS)\n",
    "for t in s[2:]:\n",
    "    z = np.append(z,t)"
   ]
  },
  {
   "cell_type": "code",
   "execution_count": 22,
   "metadata": {},
   "outputs": [
    {
     "name": "stdout",
     "output_type": "stream",
     "text": [
      "[0 1]\n",
      "(2, 5100)\n",
      "Top 20 features of Class_0\n",
      "\n",
      "\n",
      "Feature :  students\n",
      "Feature :  school\n",
      "Feature :  learning\n",
      "Feature :  my\n",
      "Feature :  classroom\n",
      "Feature :  learn\n",
      "Feature :  not\n",
      "Feature :  they\n",
      "Feature :  help\n",
      "Feature :  the\n",
      "Feature :  my students\n",
      "Feature :  nannan\n",
      "Feature :  many\n",
      "Feature :  we\n",
      "Feature :  need\n",
      "Feature :  work\n",
      "Feature :  come\n",
      "Feature :  love\n",
      "Feature :  reading\n",
      "Feature :  able\n",
      "----------------------------------------------------------------------------------------------------\n",
      "Top 20 features of Class_1\n",
      "\n",
      "\n",
      "Feature :  students\n",
      "Feature :  school\n",
      "Feature :  my\n",
      "Feature :  learning\n",
      "Feature :  classroom\n",
      "Feature :  the\n",
      "Feature :  they\n",
      "Feature :  not\n",
      "Feature :  my students\n",
      "Feature :  learn\n",
      "Feature :  help\n",
      "Feature :  many\n",
      "Feature :  nannan\n",
      "Feature :  we\n",
      "Feature :  work\n",
      "Feature :  need\n",
      "Feature :  reading\n",
      "Feature :  use\n",
      "Feature :  love\n",
      "Feature :  day\n"
     ]
    }
   ],
   "source": [
    "print(NB.classes_)\n",
    "print(NB.feature_log_prob_.shape)\n",
    "\n",
    "Class_0 = list(NB.feature_log_prob_[0])\n",
    "Class_1 = list(NB.feature_log_prob_[1])\n",
    "\n",
    "#Sorting probability values of Respective Classes\n",
    "Not_accepted = sorted(Class_0, reverse = True)\n",
    "Accepted = sorted(Class_1, reverse = True)\n",
    "#First 20 Values\n",
    "Not_accepted = Not_accepted[0:20]\n",
    "Accepted = Accepted[0:20]\n",
    "ind = 0\n",
    "print(\"Top 20 features of Class_0\")\n",
    "print('\\n')\n",
    "for i in Not_accepted:\n",
    "    ind = Class_0.index(i)\n",
    "    print(\"Feature : \", z[ind])\n",
    "\n",
    "print('-'*100)\n",
    "print(\"Top 20 features of Class_1\")\n",
    "print('\\n')\n",
    "ind = 0\n",
    "for i in Accepted:\n",
    "    ind = Class_1.index(i) \n",
    "    print(\"Feature : \", z[ind])"
   ]
  },
  {
   "cell_type": "code",
   "execution_count": null,
   "metadata": {},
   "outputs": [],
   "source": []
  },
  {
   "cell_type": "markdown",
   "metadata": {},
   "source": [
    "## Set - 2 TF-IDF ##"
   ]
  },
  {
   "cell_type": "code",
   "execution_count": 23,
   "metadata": {},
   "outputs": [
    {
     "name": "stdout",
     "output_type": "stream",
     "text": [
      "(49041, 8) (49041,)\n",
      "(24155, 8) (24155,)\n",
      "(36052, 8) (36052,)\n",
      "====================================================================================================\n",
      "After vectorizations\n",
      "(49041, 5000) (49041,)\n",
      "(24155, 5000) (24155,)\n",
      "(36052, 5000) (36052,)\n",
      "====================================================================================================\n"
     ]
    }
   ],
   "source": [
    "from sklearn.feature_extraction.text import TfidfVectorizer\n",
    "vectorizer = TfidfVectorizer(min_df=10, ngram_range=(1,3), max_features=5000 )\n",
    "\n",
    "print(X_train.shape, Y_train.shape)\n",
    "print(X_cv.shape, Y_cv.shape)\n",
    "print(X_test.shape, Y_test.shape)\n",
    "\n",
    "print(\"=\"*100)\n",
    "\n",
    "\n",
    "vectorizer.fit(X_train['essay'].values) # fit has to happen only on train data\n",
    "\n",
    "# we use the fitted CountVectorizer to convert the text to vector\n",
    "X_train_essay_tfidf = vectorizer.transform(X_train['essay'].values)\n",
    "X_cv_essay_tfidf = vectorizer.transform(X_cv['essay'].values)\n",
    "X_test_essay_tfidf = vectorizer.transform(X_test['essay'].values)\n",
    "\n",
    "print(\"After vectorizations\")\n",
    "print(X_train_essay_tfidf.shape, Y_train.shape)\n",
    "print(X_cv_essay_tfidf.shape, Y_cv.shape)\n",
    "print(X_test_essay_tfidf.shape, Y_test.shape)\n",
    "print(\"=\"*100)\n",
    "#print(vectorizer.get_feature_names())\n",
    "\n"
   ]
  },
  {
   "cell_type": "code",
   "execution_count": 24,
   "metadata": {},
   "outputs": [
    {
     "name": "stdout",
     "output_type": "stream",
     "text": [
      "Final Data matrix\n",
      "(49041, 5100) (49041,)\n",
      "(24155, 5100) (24155,)\n",
      "(36052, 5100) (36052,)\n",
      "====================================================================================================\n"
     ]
    }
   ],
   "source": [
    "# merge two sparse matrices: https://stackoverflow.com/a/19710648/4084039\n",
    "from scipy.sparse import hstack\n",
    "X_tr = hstack((X_train_essay_tfidf, X_train_state_ohe, X_train_teacher_ohe, X_train_grade_ohe, X_train_cat, X_train_sub_cat, X_train_price_norm)).tocsr()\n",
    "X_cr = hstack((X_cv_essay_tfidf, X_cv_state_ohe, X_cv_teacher_ohe, X_cv_grade_ohe, X_cv_cat, X_cv_sub_cat, X_cv_price_norm)).tocsr()\n",
    "X_te = hstack((X_test_essay_tfidf, X_test_state_ohe, X_test_teacher_ohe, X_test_grade_ohe, X_test_cat, X_test_sub_cat, X_test_price_norm)).tocsr()\n",
    "\n",
    "print(\"Final Data matrix\")\n",
    "print(X_tr.shape, Y_train.shape)\n",
    "print(X_cr.shape, Y_cv.shape)\n",
    "print(X_te.shape, Y_test.shape)\n",
    "print(\"=\"*100)"
   ]
  },
  {
   "cell_type": "code",
   "execution_count": 25,
   "metadata": {},
   "outputs": [
    {
     "data": {
      "image/png": "[encoded data removed]",
      "text/plain": [
       "<Figure size 432x288 with 1 Axes>"
      ]
     },
     "metadata": {},
     "output_type": "display_data"
    },
    {
     "data": {
      "text/html": [
       "<div>\n",
       "<style scoped>\n",
       "    .dataframe tbody tr th:only-of-type {\n",
       "        vertical-align: middle;\n",
       "    }\n",
       "\n",
       "    .dataframe tbody tr th {\n",
       "        vertical-align: top;\n",
       "    }\n",
       "\n",
       "    .dataframe thead th {\n",
       "        text-align: right;\n",
       "    }\n",
       "</style>\n",
       "<table border=\"1\" class=\"dataframe\">\n",
       "  <thead>\n",
       "    <tr style=\"text-align: right;\">\n",
       "      <th></th>\n",
       "      <th>mean_fit_time</th>\n",
       "      <th>std_fit_time</th>\n",
       "      <th>mean_score_time</th>\n",
       "      <th>std_score_time</th>\n",
       "      <th>param_alpha</th>\n",
       "      <th>params</th>\n",
       "      <th>split0_test_score</th>\n",
       "      <th>split1_test_score</th>\n",
       "      <th>split2_test_score</th>\n",
       "      <th>split3_test_score</th>\n",
       "      <th>...</th>\n",
       "      <th>split2_train_score</th>\n",
       "      <th>split3_train_score</th>\n",
       "      <th>split4_train_score</th>\n",
       "      <th>split5_train_score</th>\n",
       "      <th>split6_train_score</th>\n",
       "      <th>split7_train_score</th>\n",
       "      <th>split8_train_score</th>\n",
       "      <th>split9_train_score</th>\n",
       "      <th>mean_train_score</th>\n",
       "      <th>std_train_score</th>\n",
       "    </tr>\n",
       "  </thead>\n",
       "  <tbody>\n",
       "    <tr>\n",
       "      <th>0</th>\n",
       "      <td>0.242257</td>\n",
       "      <td>0.032600</td>\n",
       "      <td>0.011969</td>\n",
       "      <td>0.005628</td>\n",
       "      <td>0.0001</td>\n",
       "      <td>{'alpha': 0.0001}</td>\n",
       "      <td>0.668117</td>\n",
       "      <td>0.658722</td>\n",
       "      <td>0.676286</td>\n",
       "      <td>0.665202</td>\n",
       "      <td>...</td>\n",
       "      <td>0.708276</td>\n",
       "      <td>0.706965</td>\n",
       "      <td>0.709667</td>\n",
       "      <td>0.710103</td>\n",
       "      <td>0.709168</td>\n",
       "      <td>0.707879</td>\n",
       "      <td>0.707404</td>\n",
       "      <td>0.709581</td>\n",
       "      <td>0.708551</td>\n",
       "      <td>0.000983</td>\n",
       "    </tr>\n",
       "    <tr>\n",
       "      <th>1</th>\n",
       "      <td>0.229287</td>\n",
       "      <td>0.014057</td>\n",
       "      <td>0.010271</td>\n",
       "      <td>0.002045</td>\n",
       "      <td>0.001</td>\n",
       "      <td>{'alpha': 0.001}</td>\n",
       "      <td>0.668104</td>\n",
       "      <td>0.658716</td>\n",
       "      <td>0.676277</td>\n",
       "      <td>0.665201</td>\n",
       "      <td>...</td>\n",
       "      <td>0.708268</td>\n",
       "      <td>0.706956</td>\n",
       "      <td>0.709658</td>\n",
       "      <td>0.710094</td>\n",
       "      <td>0.709160</td>\n",
       "      <td>0.707870</td>\n",
       "      <td>0.707395</td>\n",
       "      <td>0.709571</td>\n",
       "      <td>0.708542</td>\n",
       "      <td>0.000983</td>\n",
       "    </tr>\n",
       "    <tr>\n",
       "      <th>2</th>\n",
       "      <td>0.232377</td>\n",
       "      <td>0.027806</td>\n",
       "      <td>0.010871</td>\n",
       "      <td>0.002462</td>\n",
       "      <td>0.01</td>\n",
       "      <td>{'alpha': 0.01}</td>\n",
       "      <td>0.668008</td>\n",
       "      <td>0.658663</td>\n",
       "      <td>0.676213</td>\n",
       "      <td>0.665153</td>\n",
       "      <td>...</td>\n",
       "      <td>0.708180</td>\n",
       "      <td>0.706865</td>\n",
       "      <td>0.709570</td>\n",
       "      <td>0.710003</td>\n",
       "      <td>0.709066</td>\n",
       "      <td>0.707782</td>\n",
       "      <td>0.707309</td>\n",
       "      <td>0.709483</td>\n",
       "      <td>0.708452</td>\n",
       "      <td>0.000982</td>\n",
       "    </tr>\n",
       "    <tr>\n",
       "      <th>3</th>\n",
       "      <td>0.260106</td>\n",
       "      <td>0.021678</td>\n",
       "      <td>0.015454</td>\n",
       "      <td>0.009348</td>\n",
       "      <td>0.1</td>\n",
       "      <td>{'alpha': 0.1}</td>\n",
       "      <td>0.667102</td>\n",
       "      <td>0.658042</td>\n",
       "      <td>0.675520</td>\n",
       "      <td>0.664537</td>\n",
       "      <td>...</td>\n",
       "      <td>0.707303</td>\n",
       "      <td>0.705965</td>\n",
       "      <td>0.708683</td>\n",
       "      <td>0.709101</td>\n",
       "      <td>0.708149</td>\n",
       "      <td>0.706901</td>\n",
       "      <td>0.706413</td>\n",
       "      <td>0.708592</td>\n",
       "      <td>0.707562</td>\n",
       "      <td>0.000979</td>\n",
       "    </tr>\n",
       "    <tr>\n",
       "      <th>4</th>\n",
       "      <td>0.225235</td>\n",
       "      <td>0.012421</td>\n",
       "      <td>0.011424</td>\n",
       "      <td>0.001821</td>\n",
       "      <td>1</td>\n",
       "      <td>{'alpha': 1}</td>\n",
       "      <td>0.658672</td>\n",
       "      <td>0.651718</td>\n",
       "      <td>0.668400</td>\n",
       "      <td>0.658290</td>\n",
       "      <td>...</td>\n",
       "      <td>0.698601</td>\n",
       "      <td>0.697126</td>\n",
       "      <td>0.699837</td>\n",
       "      <td>0.700249</td>\n",
       "      <td>0.699188</td>\n",
       "      <td>0.698220</td>\n",
       "      <td>0.697454</td>\n",
       "      <td>0.699719</td>\n",
       "      <td>0.698755</td>\n",
       "      <td>0.000963</td>\n",
       "    </tr>\n",
       "    <tr>\n",
       "      <th>5</th>\n",
       "      <td>0.212767</td>\n",
       "      <td>0.014764</td>\n",
       "      <td>0.011076</td>\n",
       "      <td>0.001636</td>\n",
       "      <td>10</td>\n",
       "      <td>{'alpha': 10}</td>\n",
       "      <td>0.594575</td>\n",
       "      <td>0.600191</td>\n",
       "      <td>0.610189</td>\n",
       "      <td>0.608390</td>\n",
       "      <td>...</td>\n",
       "      <td>0.630309</td>\n",
       "      <td>0.629699</td>\n",
       "      <td>0.630401</td>\n",
       "      <td>0.631823</td>\n",
       "      <td>0.630676</td>\n",
       "      <td>0.632321</td>\n",
       "      <td>0.627360</td>\n",
       "      <td>0.630216</td>\n",
       "      <td>0.630558</td>\n",
       "      <td>0.001324</td>\n",
       "    </tr>\n",
       "    <tr>\n",
       "      <th>6</th>\n",
       "      <td>0.226955</td>\n",
       "      <td>0.021225</td>\n",
       "      <td>0.011821</td>\n",
       "      <td>0.001095</td>\n",
       "      <td>100</td>\n",
       "      <td>{'alpha': 100}</td>\n",
       "      <td>0.527157</td>\n",
       "      <td>0.539562</td>\n",
       "      <td>0.534474</td>\n",
       "      <td>0.548962</td>\n",
       "      <td>...</td>\n",
       "      <td>0.544596</td>\n",
       "      <td>0.543151</td>\n",
       "      <td>0.543781</td>\n",
       "      <td>0.544150</td>\n",
       "      <td>0.543489</td>\n",
       "      <td>0.546876</td>\n",
       "      <td>0.541964</td>\n",
       "      <td>0.542162</td>\n",
       "      <td>0.543975</td>\n",
       "      <td>0.001388</td>\n",
       "    </tr>\n",
       "  </tbody>\n",
       "</table>\n",
       "<p>7 rows × 31 columns</p>\n",
       "</div>"
      ],
      "text/plain": [
       "   mean_fit_time  std_fit_time  mean_score_time  std_score_time param_alpha  \\\n",
       "0       0.242257      0.032600         0.011969        0.005628      0.0001   \n",
       "1       0.229287      0.014057         0.010271        0.002045       0.001   \n",
       "2       0.232377      0.027806         0.010871        0.002462        0.01   \n",
       "3       0.260106      0.021678         0.015454        0.009348         0.1   \n",
       "4       0.225235      0.012421         0.011424        0.001821           1   \n",
       "5       0.212767      0.014764         0.011076        0.001636          10   \n",
       "6       0.226955      0.021225         0.011821        0.001095         100   \n",
       "\n",
       "              params  split0_test_score  split1_test_score  split2_test_score  \\\n",
       "0  {'alpha': 0.0001}           0.668117           0.658722           0.676286   \n",
       "1   {'alpha': 0.001}           0.668104           0.658716           0.676277   \n",
       "2    {'alpha': 0.01}           0.668008           0.658663           0.676213   \n",
       "3     {'alpha': 0.1}           0.667102           0.658042           0.675520   \n",
       "4       {'alpha': 1}           0.658672           0.651718           0.668400   \n",
       "5      {'alpha': 10}           0.594575           0.600191           0.610189   \n",
       "6     {'alpha': 100}           0.527157           0.539562           0.534474   \n",
       "\n",
       "   split3_test_score  ...  split2_train_score  split3_train_score  \\\n",
       "0           0.665202  ...            0.708276            0.706965   \n",
       "1           0.665201  ...            0.708268            0.706956   \n",
       "2           0.665153  ...            0.708180            0.706865   \n",
       "3           0.664537  ...            0.707303            0.705965   \n",
       "4           0.658290  ...            0.698601            0.697126   \n",
       "5           0.608390  ...            0.630309            0.629699   \n",
       "6           0.548962  ...            0.544596            0.543151   \n",
       "\n",
       "   split4_train_score  split5_train_score  split6_train_score  \\\n",
       "0            0.709667            0.710103            0.709168   \n",
       "1            0.709658            0.710094            0.709160   \n",
       "2            0.709570            0.710003            0.709066   \n",
       "3            0.708683            0.709101            0.708149   \n",
       "4            0.699837            0.700249            0.699188   \n",
       "5            0.630401            0.631823            0.630676   \n",
       "6            0.543781            0.544150            0.543489   \n",
       "\n",
       "   split7_train_score  split8_train_score  split9_train_score  \\\n",
       "0            0.707879            0.707404            0.709581   \n",
       "1            0.707870            0.707395            0.709571   \n",
       "2            0.707782            0.707309            0.709483   \n",
       "3            0.706901            0.706413            0.708592   \n",
       "4            0.698220            0.697454            0.699719   \n",
       "5            0.632321            0.627360            0.630216   \n",
       "6            0.546876            0.541964            0.542162   \n",
       "\n",
       "   mean_train_score  std_train_score  \n",
       "0          0.708551         0.000983  \n",
       "1          0.708542         0.000983  \n",
       "2          0.708452         0.000982  \n",
       "3          0.707562         0.000979  \n",
       "4          0.698755         0.000963  \n",
       "5          0.630558         0.001324  \n",
       "6          0.543975         0.001388  \n",
       "\n",
       "[7 rows x 31 columns]"
      ]
     },
     "execution_count": 25,
     "metadata": {},
     "output_type": "execute_result"
    }
   ],
   "source": [
    "from sklearn.model_selection import GridSearchCV\n",
    "from scipy.stats import randint as sp_randint\n",
    "from sklearn.model_selection import RandomizedSearchCV\n",
    "from sklearn.naive_bayes import MultinomialNB\n",
    "from math import log\n",
    "prior = [0.5, 0.5]\n",
    "NB = MultinomialNB(class_prior = prior)\n",
    "parameters = {'alpha':[0.0001, 0.001, 0.01, 0.1, 1, 10, 100]}\n",
    "clf = GridSearchCV(NB, parameters, cv=10, scoring='roc_auc', n_jobs = -1)\n",
    "clf.fit(X_tr, Y_train)\n",
    "\n",
    "results = pd.DataFrame.from_dict(clf.cv_results_)\n",
    "results = results.sort_values(['param_alpha'])\n",
    "\n",
    "train_auc= results['mean_train_score']\n",
    "train_auc_std= results['std_train_score']\n",
    "cv_auc = results['mean_test_score'] \n",
    "cv_auc_std= results['std_test_score']\n",
    "K =  results['param_alpha']\n",
    "K =  [log(u,10) for u in K]\n",
    "\n",
    "plt.plot(K, train_auc, label='Train AUC')\n",
    "# this code is copied from here: https://stackoverflow.com/a/48803361/4084039\n",
    "# plt.gca().fill_between(K, train_auc - train_auc_std,train_auc + train_auc_std,alpha=0.2,color='darkblue')\n",
    "\n",
    "plt.plot(K, cv_auc, label='CV AUC')\n",
    "# this code is copied from here: https://stackoverflow.com/a/48803361/4084039\n",
    "# plt.gca().fill_between(K, cv_auc - cv_auc_std,cv_auc + cv_auc_std,alpha=0.2,color='darkorange')\n",
    "\n",
    "plt.scatter(K, train_auc, label='Train AUC points')\n",
    "plt.scatter(K, cv_auc, label='CV AUC points')\n",
    "\n",
    "\n",
    "plt.legend()\n",
    "plt.xlabel(\"Alpha: hyperparameter\")\n",
    "plt.ylabel(\"AUC\")\n",
    "plt.title(\"Hyper parameter Vs AUC plot\")\n",
    "plt.grid()\n",
    "plt.show()\n",
    "\n",
    "results.head(7)\n"
   ]
  },
  {
   "cell_type": "code",
   "execution_count": 26,
   "metadata": {},
   "outputs": [
    {
     "data": {
      "image/png": "[encoded data removed]",
      "text/plain": [
       "<Figure size 432x288 with 1 Axes>"
      ]
     },
     "metadata": {},
     "output_type": "display_data"
    }
   ],
   "source": [
    "# https://scikit-learn.org/stable/modules/generated/sklearn.metrics.roc_curve.html#sklearn.metrics.roc_curve\n",
    "from sklearn.metrics import roc_curve, auc\n",
    "\n",
    "best_alpha = 0.001\n",
    "NB = MultinomialNB(alpha = best_alpha, class_prior = prior)\n",
    "NB.fit(X_tr, Y_train)\n",
    "# roc_auc_score(y_true, y_score) the 2nd parameter should be probability estimates of the positive class\n",
    "# not the predicted outputs\n",
    "\n",
    "y_train_pred = NB.predict_proba(X_tr)[:,1]\n",
    "y_test_pred = NB.predict_proba(X_te)[:,1]\n",
    "\n",
    "\n",
    "#y_train_pred = batch_predict(neigh, X_tr)    \n",
    "#y_test_pred = batch_predict(neigh, X_te)\n",
    "\n",
    "train_fpr, train_tpr, tr_thresholds = roc_curve(Y_train, y_train_pred)\n",
    "test_fpr, test_tpr, te_thresholds = roc_curve(Y_test, y_test_pred)\n",
    "\n",
    "plt.plot(train_fpr, train_tpr, label=\"train AUC =\"+str(auc(train_fpr, train_tpr)))\n",
    "plt.plot(test_fpr, test_tpr, label=\"test AUC =\"+str(auc(test_fpr, test_tpr)))\n",
    "plt.legend()\n",
    "plt.xlabel(\"FPR\")\n",
    "plt.ylabel(\"TPR\")\n",
    "plt.title(\"ERROR PLOTS\")\n",
    "plt.grid()\n",
    "plt.show()"
   ]
  },
  {
   "cell_type": "code",
   "execution_count": 27,
   "metadata": {},
   "outputs": [],
   "source": [
    "# we are writing our own function for predict, with defined thresould\n",
    "# we will pick a threshold that will give the least fpr\n",
    "def find_best_threshold(threshould, fpr, tpr):\n",
    "    t = threshould[np.argmax(tpr*(1-fpr))]\n",
    "    # (tpr*(1-fpr)) will be maximum if your fpr is very low and tpr is very high\n",
    "    print(\"the maximum value of tpr*(1-fpr)\", max(tpr*(1-fpr)), \"for threshold\", np.round(t,3))\n",
    "    return t\n",
    "\n",
    "def predict_with_best_t(proba, threshould):\n",
    "    predictions = []\n",
    "    for i in proba:\n",
    "        if i>=threshould:\n",
    "            predictions.append(1)\n",
    "        else:\n",
    "            predictions.append(0)\n",
    "    return predictions"
   ]
  },
  {
   "cell_type": "code",
   "execution_count": 28,
   "metadata": {},
   "outputs": [
    {
     "name": "stdout",
     "output_type": "stream",
     "text": [
      "====================================================================================================\n",
      "the maximum value of tpr*(1-fpr) 0.4246410067740664 for threshold 0.497\n",
      "Train confusion matrix\n",
      "[[ 4880  2546]\n",
      " [14724 26891]]\n",
      "Test confusion matrix\n",
      "[[ 3366  2093]\n",
      " [11031 19562]]\n"
     ]
    }
   ],
   "source": [
    "print(\"=\"*100)\n",
    "from sklearn.metrics import confusion_matrix\n",
    "best_t = find_best_threshold(tr_thresholds, train_fpr, train_tpr)\n",
    "print(\"Train confusion matrix\")\n",
    "print(confusion_matrix(Y_train, predict_with_best_t(y_train_pred, best_t)))\n",
    "print(\"Test confusion matrix\")\n",
    "print(confusion_matrix(Y_test, predict_with_best_t(y_test_pred, best_t)))"
   ]
  },
  {
   "cell_type": "code",
   "execution_count": 29,
   "metadata": {},
   "outputs": [
    {
     "data": {
      "image/png": "[encoded data removed]",
      "text/plain": [
       "<Figure size 432x288 with 2 Axes>"
      ]
     },
     "metadata": {},
     "output_type": "display_data"
    },
    {
     "data": {
      "image/png": "[encoded data removed]",
      "text/plain": [
       "<Figure size 432x288 with 2 Axes>"
      ]
     },
     "metadata": {},
     "output_type": "display_data"
    }
   ],
   "source": [
    "test_con=confusion_matrix(Y_test, predict_with_best_t(y_test_pred, best_t)) \n",
    "sns.heatmap(test_con,annot=True,cmap='Blues', fmt=\"d\") \n",
    "plt.xlabel(\" actual values\") \n",
    "plt.ylabel(\"predicted values\") \n",
    "plt.title(\"Test Confusion matrix\") \n",
    "plt.show()\n",
    "\n",
    "\n",
    "train_con=confusion_matrix(Y_train, predict_with_best_t(y_train_pred, best_t)) \n",
    "sns.heatmap(train_con,annot=True,cmap='Blues', fmt=\"d\") \n",
    "plt.xlabel(\" actual values\") \n",
    "plt.ylabel(\"predicted values\") \n",
    "plt.title(\"Train Confusion matrix\") \n",
    "plt.show()"
   ]
  },
  {
   "cell_type": "markdown",
   "metadata": {
    "colab_type": "text",
    "id": "lS9hIHdib3dp"
   },
   "source": [
    "<h1>3. Summary</h1>\n",
    "\n",
    "<br> as mentioned in the step 5 of instructions"
   ]
  },
  {
   "cell_type": "markdown",
   "metadata": {},
   "source": [
    "| Vectorizer | Model  | hyperparameter alpha | test AUC |\n",
    "|------------|--------|----------------------|----------|\n",
    "|      BOW   |    NB  |           0.01         |   0.6904 |\n",
    "|    TFIDF   |    NB  |           0.001        |   0.6733 |"
   ]
  },
  {
   "cell_type": "code",
   "execution_count": null,
   "metadata": {},
   "outputs": [],
   "source": []
  }
 ],
 "metadata": {
  "colab": {
   "collapsed_sections": [],
   "name": "6_Assignment_NB_Instructions.ipynb",
   "provenance": [],
   "version": "0.3.2"
  },
  "kernelspec": {
   "display_name": "Python 3",
   "language": "python",
   "name": "python3"
  },
  "language_info": {
   "codemirror_mode": {
    "name": "ipython",
    "version": 3
   },
   "file_extension": ".py",
   "mimetype": "text/x-python",
   "name": "python",
   "nbconvert_exporter": "python",
   "pygments_lexer": "ipython3",
   "version": "3.7.6"
  }
 },
 "nbformat": 4,
 "nbformat_minor": 1
}
